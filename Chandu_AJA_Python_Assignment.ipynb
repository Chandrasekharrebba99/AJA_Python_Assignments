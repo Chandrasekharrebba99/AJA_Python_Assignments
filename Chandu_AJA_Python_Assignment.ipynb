{
 "cells": [
  {
   "cell_type": "code",
   "execution_count": 1,
   "id": "0da09388",
   "metadata": {},
   "outputs": [
    {
     "name": "stdout",
     "output_type": "stream",
     "text": [
      "ADCsdsv\n"
     ]
    }
   ],
   "source": [
    "print(\"ADCsdsv\")"
   ]
  },
  {
   "cell_type": "code",
   "execution_count": null,
   "id": "734e9d8d",
   "metadata": {},
   "outputs": [],
   "source": []
  },
  {
   "cell_type": "code",
   "execution_count": null,
   "id": "42f94129",
   "metadata": {},
   "outputs": [],
   "source": []
  },
  {
   "cell_type": "markdown",
   "id": "73aa2a40",
   "metadata": {},
   "source": [
    "### 1Take the input from the user for(Total number of people, Number of seats for bus. Based on two inputs \n",
    "\n",
    "\n"
   ]
  },
  {
   "cell_type": "code",
   "execution_count": 21,
   "id": "83503b22",
   "metadata": {},
   "outputs": [
    {
     "name": "stdout",
     "output_type": "stream",
     "text": [
      "Enter the number of people:10\n",
      "Enter the number of seats in a bus:4\n",
      "You need 3 buses.\n"
     ]
    }
   ],
   "source": [
    "no_people = int(input(\"Enter the number of people:\"))\n",
    "no_seats_per_bus = int(input(\"Enter the number of seats in a bus:\"))\n",
    "\n",
    "no_of_buses1 = (no_people//no_seats_per_bus)\n",
    "no_of_buses2=0\n",
    "if((no_people//no_seats_per_bus)>0):\n",
    "    no_of_buses2+=1\n",
    "print(f\"You need {int(no_of_buses1+no_of_buses2)} buses.\")"
   ]
  },
  {
   "cell_type": "markdown",
   "id": "38cf8cc9",
   "metadata": {},
   "source": [
    "## 2.take temperature from the user and convert foreign heat -> Celsius. "
   ]
  },
  {
   "cell_type": "code",
   "execution_count": 7,
   "id": "1dce31d9",
   "metadata": {},
   "outputs": [
    {
     "name": "stdout",
     "output_type": "stream",
     "text": [
      "40\n",
      "4.444444444444445\n"
     ]
    }
   ],
   "source": [
    "F = float(input())\n",
    "C = (5/9)*(F-32)\n",
    "print(C)"
   ]
  },
  {
   "cell_type": "markdown",
   "id": "aee48bbf",
   "metadata": {},
   "source": [
    "## 3.take temperature from the user and convert Celsius → foreign heat."
   ]
  },
  {
   "cell_type": "code",
   "execution_count": 23,
   "id": "3d091b86",
   "metadata": {},
   "outputs": [
    {
     "name": "stdout",
     "output_type": "stream",
     "text": [
      "4.4444447\n",
      "40.00000046\n"
     ]
    }
   ],
   "source": [
    "C = float(input())\n",
    "F = float((9/5)*C)+32\n",
    "print(F)"
   ]
  },
  {
   "cell_type": "code",
   "execution_count": null,
   "id": "4ed813b0",
   "metadata": {},
   "outputs": [],
   "source": []
  },
  {
   "cell_type": "markdown",
   "id": "afd5c4e6",
   "metadata": {},
   "source": [
    "### 4.take four numbers from the user (variables name it as x1,x2,x3,x4) \n",
    "\n",
    " Do the below operations \n",
    "\n",
    "(x1+x2)**2, (x3+x4)**3 \n",
    "\n",
    "variance \n",
    "\n",
    "standard deviation: sqrt(variance):  User math module. Math.sqrt(variance) \n",
    "Regression \n",
    "\n",
    "y=mx+b \n",
    "      m=1.23 \n",
    "  b=0.045 \n",
    "     find out y \n",
    "\n",
    "    y=m*(x1+x2+x3+x4)+b \n",
    "Find the average of four numbers \n",
    "Find the sum of four numbers "
   ]
  },
  {
   "cell_type": "code",
   "execution_count": 32,
   "id": "81149e61",
   "metadata": {},
   "outputs": [
    {
     "name": "stdout",
     "output_type": "stream",
     "text": [
      "8\n",
      "5\n",
      "3\n",
      "4\n",
      "Your variance is:                          3.5\n",
      "Your variance is:                          1.8708286933869707\n",
      "Your regression of y = (1.23)*x+0.045 is:  24.645000000000003\n",
      "The average of 4 numbers is:               5.0\n",
      "the sum of four numbers is:                20\n"
     ]
    }
   ],
   "source": [
    "x1 = int(input())\n",
    "x2 = int(input())\n",
    "x3 = int(input())\n",
    "x4 = int(input())\n",
    "\n",
    "first_expression = ((x1+x2)**2)\n",
    "second_expression = ((x1+x2)**3)\n",
    "\n",
    "mean = (x1+x2+x3+x4)/4\n",
    "\n",
    "l1 = [x1,x2,x3,x4]\n",
    "\n",
    "variance = 0\n",
    "\n",
    "for i in l1:\n",
    "    variance +=((i-mean)**2)\n",
    "    \n",
    "variance = variance/len(l1)\n",
    "print(f\"Your variance is:                          {variance}\")\n",
    "print(f\"Your Standard Deviation is:                {(variance)**(1/2)}\")\n",
    "\n",
    "#y=mx+b\n",
    "m = 1.23\n",
    "b = 0.045\n",
    "\n",
    "y = m*(sum(l1))+b\n",
    "\n",
    "print(f\"Your regression of y = (1.23)*x+0.045 is:  {y}\")\n",
    "print(f\"The average of 4 numbers is:               {mean}\")\n",
    "print(f\"the sum of four numbers is:                {x1+x2+x3+x4}\")\n"
   ]
  },
  {
   "cell_type": "code",
   "execution_count": null,
   "id": "0a8f4c51",
   "metadata": {},
   "outputs": [],
   "source": [
    "# # 5.Take the distance in km \n",
    "\n",
    "#     \tShow that in cm, meters, in milli meters, cents, feets, yards "
   ]
  },
  {
   "cell_type": "code",
   "execution_count": 33,
   "id": "ecffb48d",
   "metadata": {},
   "outputs": [
    {
     "name": "stdout",
     "output_type": "stream",
     "text": [
      "1\n",
      "Distence in feet 3280.84\n",
      "Distence in meters 1000.0\n",
      "Distence in yards 1093.61\n",
      "Distence in Centimeters 100000.0\n",
      "Distence in millimeters 1000000.0\n"
     ]
    }
   ],
   "source": [
    "distence_in_KM = float(input())\n",
    "print(f\"Distence in feet {distence_in_KM*3280.84}\")\n",
    "print(f\"Distence in meters {distence_in_KM*1000}\")\n",
    "print(f\"Distence in yards {distence_in_KM*1093.61}\")\n",
    "print(f\"Distence in Centimeters {distence_in_KM*100000}\")\n",
    "print(f\"Distence in millimeters {distence_in_KM*1000000}\")\n"
   ]
  },
  {
   "cell_type": "code",
   "execution_count": 35,
   "id": "ed132a23",
   "metadata": {},
   "outputs": [
    {
     "name": "stdout",
     "output_type": "stream",
     "text": [
      "1\n",
      "The number of MegaBites MB in1 is: 1024\n",
      "The number of Kilo bites KB in 1 is: 1048576\n",
      "The number of TeraBite TB in 1 is: 0.0009765625\n",
      "The number of PetaBites in 1 is: 9.5367431640625e-07\n"
     ]
    }
   ],
   "source": [
    "#  6.Take the size of your hard disk in GB \n",
    "\n",
    "#      \tShow that in MB, KB, TB, PB \n",
    "\n",
    "HD = int(input())\n",
    "print(f\"The number of MegaBites MB in{HD} is: {HD*1024}\")\n",
    "print(f\"The number of Kilo bites KB in {HD} is: {(HD*1024)*1024}\")\n",
    "print(f\"The number of TeraBite TB in {HD} is: {(HD/1024)}\")\n",
    "print(f\"The number of PetaBites in {HD} is: {HD/((1024)**2)}\")\n",
    "      "
   ]
  },
  {
   "cell_type": "markdown",
   "id": "fc602623",
   "metadata": {},
   "source": [
    "#### 7.  Take name, age, height from the user and print like below \n",
    "\n",
    "The details of the person: Name:name of the person, Age:age of the person, Height:height of the person \n",
    "\n",
    "Note: make sure that no space between : and a value and should be space after “COMA” "
   ]
  },
  {
   "cell_type": "code",
   "execution_count": 37,
   "id": "2d8b7437",
   "metadata": {},
   "outputs": [
    {
     "name": "stdout",
     "output_type": "stream",
     "text": [
      "Enter Your name: Chandrasekhar\n",
      "Enter your age: 22\n",
      "Enter your height: 6\n",
      "The details of the person: Name:Chandrasekhar, Age:22, Height:6.0\n"
     ]
    }
   ],
   "source": [
    "name = input(\"Enter Your name: \")\n",
    "age = int(input(\"Enter your age: \"))\n",
    "height = float(input(\"Enter your height: \"))\n",
    "\n",
    "print(f\"The details of the person: Name:{name}, Age:{age}, Height:{height}\")\n"
   ]
  },
  {
   "cell_type": "markdown",
   "id": "2211edca",
   "metadata": {},
   "source": [
    "### 8. BMI calculation: take required parameters for BMI calculation from the user and calculate BMI of the person. "
   ]
  },
  {
   "cell_type": "code",
   "execution_count": null,
   "id": "938860c7",
   "metadata": {},
   "outputs": [],
   "source": [
    "#height,Weight\n",
    "height = float(input(\"Please enter your height\"))\n",
    "userGuide = \"Please enter your height scale type. if meters : 1, feet : 2, centimeters: 3\"\n",
    "\n",
    "while True:\n",
    "    heightScale = int(input(userGuide))\n",
    "    if(heightScale in [1,2,3]):\n",
    "        break\n",
    "    else:\n",
    "        print(\"Please give your input in 1,2,3 only\")\n",
    "\n",
    "weight  = float(input(\"Please enter your weight in KG:\"))\n",
    "\n",
    "meters = 0 \n",
    "\n",
    "if(heightScale == 1):\n",
    "    meters += height\n",
    "elif(heightScale == 2):\n",
    "    meters += height*(0.3048)\n",
    "else:\n",
    "    meters += height*(0.01)\n",
    "    \n",
    "BMI = weight/(meters*meters)\n",
    "if(25<BMI>18.5):\n",
    "    print(\"You are BMI is Normal\")\n",
    "elif(35<BMI>=25):\n",
    "    print(\"You are BMI says Overeight\")\n",
    "elif(BMI>35):\n",
    "    print(\"You are BMI says Obesity\")\n",
    "else:\n",
    "    print(\"You are UnderWeight\")\n",
    "print(BMI)"
   ]
  },
  {
   "cell_type": "markdown",
   "id": "9cb72dd3",
   "metadata": {},
   "source": [
    "#### 9. name=\"Jayaram\" \n",
    "\n",
    "#### age=1.6 \n",
    "\n",
    "height=3.5356234 \n",
    "\n",
    "weight=10.343856783 \n",
    "\n",
    " By using above inputs print the output \n",
    "\n",
    "Name:Jayaram, Age:1.6, Height:3.54, Weight:10.344 \n",
    "\n",
    "Note: Use format specifiers(%s, %d, %f) "
   ]
  },
  {
   "cell_type": "code",
   "execution_count": 2,
   "id": "6554fa53",
   "metadata": {},
   "outputs": [
    {
     "name": "stdout",
     "output_type": "stream",
     "text": [
      "chandu\n",
      "23\n",
      "6.3\n",
      "73\n",
      "Name:chandu, Age:23, Height:6.300000, Weight:73.000000\n"
     ]
    }
   ],
   "source": [
    "name = input()\n",
    "age = int(input())\n",
    "height = float(input())\n",
    "weight = float(input())\n",
    "\n",
    "print(\"Name:%s, Age:%d, Height:%f, Weight:%f\"%(name,age,height,weight))\n"
   ]
  },
  {
   "cell_type": "markdown",
   "id": "2eae381e",
   "metadata": {},
   "source": [
    "### 10. Take three upper case letters from the user convert in to small case. "
   ]
  },
  {
   "cell_type": "code",
   "execution_count": 3,
   "id": "0b3864ff",
   "metadata": {},
   "outputs": [
    {
     "name": "stdout",
     "output_type": "stream",
     "text": [
      "PLease Enter the input having Caps Letters:sdjhcsdkaSCDDcsdmnASCADC\n",
      "sdjhcsdkascddcsdmnascadc\n"
     ]
    }
   ],
   "source": [
    "userinput1 = input(\"PLease Enter the input having Caps Letters:\")\n",
    "print(userinput1.lower())"
   ]
  },
  {
   "cell_type": "markdown",
   "id": "48baa50b",
   "metadata": {},
   "source": [
    "### 11. take base and exponent value from the user and print like in mathematics: \n",
    "\n",
    "  example: base=2, exponent=3: 23 \n",
    "\n",
    "Use: 2\\u00b3 "
   ]
  },
  {
   "cell_type": "code",
   "execution_count": null,
   "id": "16b6e7aa",
   "metadata": {},
   "outputs": [],
   "source": []
  },
  {
   "cell_type": "markdown",
   "id": "8bf704fc",
   "metadata": {},
   "source": [
    "### 12. Take some groceries cost prices and print total cost and average cost, what is the max cost, what is the minimum cost. "
   ]
  },
  {
   "cell_type": "code",
   "execution_count": 7,
   "id": "d83076af",
   "metadata": {},
   "outputs": [
    {
     "name": "stdout",
     "output_type": "stream",
     "text": [
      "Please Enter 0 when you enter all groceries\n",
      "Groceri Name:Mobile\n",
      "Please enter Price of Mobile:343434\n",
      "Groceri Name:earphones\n",
      "Please enter Price of earphones:1500\n",
      "Groceri Name:cable\n",
      "Please enter Price of cable:300\n",
      "Groceri Name:food \n",
      "Please enter Price of food :30\n",
      "Groceri Name:meal\n",
      "Please enter Price of meal:500\n",
      "Groceri Name:0\n",
      "Total price for your groceries is 345764.0\n",
      "Average Price of groceries is 69152.8\n",
      "Max Price of groceries item  is 0\n",
      "Min Price of groceries item  is 5687654345676\n"
     ]
    }
   ],
   "source": [
    "print(\"Please Enter 0 when you enter all groceries\")\n",
    "\n",
    "amountDict = dict()\n",
    "total_price = 0\n",
    "while True:\n",
    "    groceries = input(\"Groceri Name:\")\n",
    "    if(groceries == '0'):\n",
    "        break\n",
    "    else:\n",
    "        price = float(input(f\"Please enter Price of {groceries}:\"))\n",
    "        amountDict[groceries] = price\n",
    "        total_price += price\n",
    "\n",
    "maxamount = 0\n",
    "max_groucerie = \"\"\n",
    "minamount = 8776767\n",
    "min_groucerie = \"\"\n",
    "for i in amountDict:\n",
    "    min_groucerie=\"\"\n",
    "    max_groucerie = \"\"\n",
    "    if(maxamount>amountDict[i]):\n",
    "        maxamount = amountDict[i]\n",
    "        max_groucerie+=i\n",
    "    if(minamount>amountDict[i]):\n",
    "        minamount = amountDict[i]\n",
    "        min_groucerie+=i\n",
    "    \n",
    "print(f\"Total price for your groceries is {total_price}\")\n",
    "print(f\"Average Price of groceries is {total_price/len(amountDict)}\")\n",
    "print(f\"Max Price of groceries item {max_groucerie} is {maxamount}\")\n",
    "print(f\"Min Price of groceries item {min_groucerie} is {minamount}\")"
   ]
  },
  {
   "cell_type": "markdown",
   "id": "48e18e9f",
   "metadata": {},
   "source": [
    "### 13. Assign “ten” value to variable it is 10 otherwise assign “Not ten” \n",
    "\n",
    "       Note: write two versions of program \n",
    "\n",
    "Version1: use and operator \n",
    "\n",
    "Version2: use or operator  "
   ]
  },
  {
   "cell_type": "code",
   "execution_count": null,
   "id": "2790f896",
   "metadata": {},
   "outputs": [],
   "source": [
    "num = input()"
   ]
  },
  {
   "cell_type": "code",
   "execution_count": null,
   "id": "fa367829",
   "metadata": {},
   "outputs": [],
   "source": []
  },
  {
   "cell_type": "code",
   "execution_count": null,
   "id": "579405f9",
   "metadata": {},
   "outputs": [],
   "source": []
  },
  {
   "cell_type": "code",
   "execution_count": null,
   "id": "f799cba2",
   "metadata": {},
   "outputs": [],
   "source": []
  },
  {
   "cell_type": "markdown",
   "id": "3e3db771",
   "metadata": {},
   "source": [
    "### Conditional statements \n",
    "\n",
    "13. Take the input from the user for(Total number of people, total number of buses, Number of seats for bus, adjust factor). Based on four inputs \n",
    "\n",
    "Decide whether there is sufficient buses or not and give solution for how many extra buses required. "
   ]
  },
  {
   "cell_type": "code",
   "execution_count": 10,
   "id": "d8137d21",
   "metadata": {},
   "outputs": [
    {
     "name": "stdout",
     "output_type": "stream",
     "text": [
      "500\n",
      "30\n",
      "2\n",
      "2\n",
      "Total Number of buses we need 15\n"
     ]
    }
   ],
   "source": [
    "no_of_people = int(input(\"Enter the number of people\"))\n",
    "no_of_seats_for_bus  =  int(input(\"Enter the number of buses\"))\n",
    "adjust_factor = int(input(\"Enter the adjust factor\"))\n",
    "no_of_buses = int(input(\"Enter the no of buses\"))\n",
    "\n",
    "\n",
    "no_of_seats_for_bus +=adjust_factor\n",
    "\n",
    "no_of_buses1 = (no_of_people//no_of_seats_for_bus)\n",
    "no_of_buses2 = 0\n",
    "\n",
    "if((no_of_people//no_of_seats_for_bus)>0):\n",
    "    no_of_buses2+=1\n",
    "    \n",
    "total_no_bus_needed = no_of_buses1+no_of_buses2\n",
    "\n",
    "print(f\"Total Number of buses we need {total_no_bus_needed - no_of_buses}\")"
   ]
  },
  {
   "cell_type": "code",
   "execution_count": 11,
   "id": "bcba291d",
   "metadata": {},
   "outputs": [
    {
     "name": "stdout",
     "output_type": "stream",
     "text": [
      "16 1\n"
     ]
    }
   ],
   "source": [
    "print(no_of_buses1,no_of_buses2)"
   ]
  },
  {
   "cell_type": "markdown",
   "id": "98b55b68",
   "metadata": {},
   "source": [
    "### 14.Take number from the user decide whether it is even or odd. \n",
    "\n",
    "15.take number from the user decide whether it is positive number or negative number \n",
    "\n",
    "16.take a string from the user print the length. if the user not given anything then show an error message \n",
    "\n",
    "17.code to perform mathematical operations. take two numbers from the user and show the below menu \n",
    "\n",
    "1. add, \n",
    "\n",
    "2. sub,\t \n",
    "\n",
    "3. mul, \n",
    "\n",
    " \t4.div,  \n",
    "\n",
    "5.quit \n",
    "\n",
    "Enter an option: \n",
    "\n",
    "based on the option need to perform an operations "
   ]
  },
  {
   "cell_type": "code",
   "execution_count": 12,
   "id": "e6135468",
   "metadata": {},
   "outputs": [
    {
     "name": "stdout",
     "output_type": "stream",
     "text": [
      "5\n",
      "Odd\n"
     ]
    }
   ],
   "source": [
    "#14 \n",
    "num = int(input())\n",
    "if(num%2==0):\n",
    "    print(\"Even\")\n",
    "else:\n",
    "    print(\"Odd\")\n",
    "    "
   ]
  },
  {
   "cell_type": "code",
   "execution_count": 15,
   "id": "711fa9b3",
   "metadata": {},
   "outputs": [
    {
     "name": "stdout",
     "output_type": "stream",
     "text": [
      "-6\n",
      "Neither positive nor negative\n"
     ]
    }
   ],
   "source": [
    "#15\n",
    "num = int(input())\n",
    "if(num>0):\n",
    "    print(\"Positive\")\n",
    "elif(0<num):\n",
    "    print(\"Negative\")\n",
    "else:\n",
    "    print(\"Neither positive nor negative\")"
   ]
  },
  {
   "cell_type": "code",
   "execution_count": 18,
   "id": "a67bc49d",
   "metadata": {},
   "outputs": [
    {
     "name": "stdout",
     "output_type": "stream",
     "text": [
      "45\n",
      "2\n"
     ]
    }
   ],
   "source": [
    "#16\n",
    "UserInput = input()\n",
    "\n",
    "if(len(UserInput)==0):\n",
    "    print(\"Error empty input:\")\n",
    "else:\n",
    "    print(len(UserInput))"
   ]
  },
  {
   "cell_type": "code",
   "execution_count": 22,
   "id": "f1fa7417",
   "metadata": {},
   "outputs": [
    {
     "name": "stdout",
     "output_type": "stream",
     "text": [
      "55\n",
      "532\n",
      "Addition of two numbers: 587\n",
      "Subtaction of two numbers:  -477\n",
      "Multiplication of two numbers: 29260\n",
      "Division of two numbers:  0.10338345864661654\n"
     ]
    }
   ],
   "source": [
    "#17\n",
    "num1 = int(input())\n",
    "num2 = int(input())\n",
    "\n",
    "def add(num1,num2):\n",
    "    return num1+num2\n",
    "def sub(num1,num2):\n",
    "    return num1-num2\n",
    "def mul(num1,num2):\n",
    "    return num1*num2\n",
    "def div(num1,num2):\n",
    "    return num1/num2\n",
    "\n",
    "print(\"Addition of two numbers: \"+str(add(num1,num2)))\n",
    "print(\"Subtaction of two numbers:  \"+str(sub(num1,num2)))\n",
    "print(\"Multiplication of two numbers: \"+str(mul(num1,num2)))\n",
    "print(\"Division of two numbers:  \"+str(div(num1,num2)))"
   ]
  },
  {
   "cell_type": "markdown",
   "id": "afa9ac59",
   "metadata": {},
   "source": [
    "### 18. show the menu: \n",
    "\n",
    "   \t\t 1. kids \n",
    "\n",
    "    \t\t2. Men's \n",
    "\n",
    "   \t\t 3. Women's \n",
    "\n",
    "    \t\tShow the corresponding message based on the selection. \n",
    "            Option:1: you are a kid \n",
    "\n",
    "                                           2: you are a gentlemen \n",
    "\n",
    "                                            3: you are a good women \n",
    "\n",
    " \n",
    "\n",
    " Mention error message if the option value >3. "
   ]
  },
  {
   "cell_type": "code",
   "execution_count": 29,
   "id": "cb7dfd24",
   "metadata": {},
   "outputs": [
    {
     "name": "stdout",
     "output_type": "stream",
     "text": [
      "Hi' please select a number acording to your profile like if kids:1, Mens:2, Womens:3 5\n",
      "Please give number between 1 to 3 only acording to profile\n",
      "Hi' please select a number acording to your profile like if kids:1, Mens:2, Womens:3 6\n",
      "Please give number between 1 to 3 only acording to profile\n",
      "Hi' please select a number acording to your profile like if kids:1, Mens:2, Womens:3 67\n",
      "Please give number between 1 to 3 only acording to profile\n",
      "Hi' please select a number acording to your profile like if kids:1, Mens:2, Womens:3 8\n",
      "Please give number between 1 to 3 only acording to profile\n",
      "Hi' please select a number acording to your profile like if kids:1, Mens:2, Womens:3 1\n",
      "you are a gentlemen\n"
     ]
    }
   ],
   "source": [
    "text = (\"Hi' please select a number acording to your profile like if kids:1, Mens:2, Womens:3 \")\n",
    "profile = input(text)\n",
    "dict1 = {\"0\":\"you are a kid\",\"1\":\"you are a gentlemen\",\"2\":\"you are a good women\"}\n",
    "\n",
    "while True:\n",
    "    if(profile in [\"1\",'2',\"3\"] ):\n",
    "        print(dict1[profile])\n",
    "        break\n",
    "    else:\n",
    "        print(\"Please give number between 1 to 3 only acording to profile\")\n",
    "        profile = input(text)"
   ]
  },
  {
   "cell_type": "markdown",
   "id": "129a7b49",
   "metadata": {},
   "source": [
    "<!-- #  19. write a program to chcek given substring is there in actual string or not? \n",
    "\n",
    "# example: act=\"python is a pure object oriented programing language\" \n",
    "\n",
    "# check whether “pure” is there in act or not. \n",
    "\n",
    "# Note: Use in operator  -->"
   ]
  },
  {
   "cell_type": "markdown",
   "id": "cb5046cf",
   "metadata": {},
   "source": [
    "### 19. write a program to chcek given substring is there in actual string or not? \n",
    "\n",
    "example: act=\"python is a pure object oriented programing language\" \n",
    "\n",
    "check whether “pure” is there in act or not. \n",
    "\n",
    "Note: Use in operator "
   ]
  },
  {
   "cell_type": "code",
   "execution_count": 31,
   "id": "bd2dd82d",
   "metadata": {},
   "outputs": [
    {
     "name": "stdout",
     "output_type": "stream",
     "text": [
      "is\n",
      "Yes present\n"
     ]
    }
   ],
   "source": [
    "act=\"python is a pure object oriented programing language\" \n",
    "\n",
    "if input() in act:\n",
    "    print(\"Yes present\")\n",
    "else:\n",
    "    print(\"Not present\")"
   ]
  },
  {
   "cell_type": "markdown",
   "id": "e4c4ab16",
   "metadata": {},
   "source": [
    "### 20. Take three numbers from the user and decide which is big "
   ]
  },
  {
   "cell_type": "code",
   "execution_count": 37,
   "id": "71e71cec",
   "metadata": {},
   "outputs": [
    {
     "name": "stdout",
     "output_type": "stream",
     "text": [
      "4\n",
      "7\n",
      "9\n",
      "9\n"
     ]
    }
   ],
   "source": [
    "num1 = int(input())\n",
    "num2 = int(input())\n",
    "num3  = int(input())\n",
    "\n",
    "maxnum = num1\n",
    "if(maxnum<num2):\n",
    "    if(num2<num3):\n",
    "        maxnum = num3\n",
    "    else:\n",
    "        maxnum = num2\n",
    "else:\n",
    "    maxnum = num1\n",
    "print(maxnum)"
   ]
  },
  {
   "cell_type": "markdown",
   "id": "9e91d6dd",
   "metadata": {},
   "source": [
    "### 21. Take age and gender from the user and decide whether he is eligible for \tmarriage in India or not. \n",
    "\n",
    "Age criteria: men age>24, women>21 "
   ]
  },
  {
   "cell_type": "code",
   "execution_count": 39,
   "id": "7e636b62",
   "metadata": {},
   "outputs": [
    {
     "name": "stdout",
     "output_type": "stream",
     "text": [
      "What is your gender please enter a number Femail:0 Mail:1 :0\n",
      "Enter Age in number:20\n",
      "No age ristriction for Femail is 21\n"
     ]
    }
   ],
   "source": [
    "gender = input(\"What is your gender please enter a number Femail:0 Mail:1 :\")\n",
    "age = int(input(\"Enter Age in number:\"))\n",
    "\n",
    "if(gender == \"1\"):\n",
    "    if(age>24):\n",
    "        print(\"Yes Allowed to get married\")\n",
    "    else:\n",
    "        print(\"No Age ristriction for Mail is 24\")\n",
    "if(gender == \"0\"):\n",
    "    if(age>21):\n",
    "        print(\"Yes Allowed to get married\")\n",
    "    else:\n",
    "        print(\"No age ristriction for Femail is 21\")"
   ]
  },
  {
   "cell_type": "markdown",
   "id": "4ebc553a",
   "metadata": {},
   "source": [
    "### 22. Take an age  and gender from the user: and mention that what he/she can \tdo in india. \n",
    "\n",
    "\"\"\" \n",
    "\n",
    "conditions \n",
    "\n",
    "1. Theatre: 5 for men 7 for women \n",
    "\n",
    "    \t2. Voting system: 18 for men and women \n",
    "\n",
    "    \t3. Marriage in india: 23 for men and for women >21 \n",
    "\n",
    "    \t4. For govt jobs: (min:18, max:32)  for men and (min:18, max:34) for \twomen \n",
    "\n",
    "   \t 5. For driving licence: (min:18, max:60) for men and women \n",
    "\n",
    "Eligibility: \n",
    "\n",
    "   \t\t1. theatre \n",
    "\n",
    "2.  Voting system \n",
    "\n",
    "3.  Marriage in india \n",
    "\n",
    "4.  For govt obs \n",
    "\n",
    "5. For driving licence: \n",
    "\n",
    "Enter an option: \n",
    "\n",
    "Gender: \n",
    "\n",
    "1. men \n",
    "\n",
    "2. women \n",
    "\n",
    "Enter an option: \n",
    "\n",
    "Enter an age of person: "
   ]
  },
  {
   "cell_type": "code",
   "execution_count": 52,
   "id": "e6b4d99d",
   "metadata": {},
   "outputs": [
    {
     "name": "stdout",
     "output_type": "stream",
     "text": [
      "What is your gender please enter a number Femail:0 Mail:1 :0\n",
      "Enter Age in number:20\n",
      "Yes Eligible for Theatre\n",
      "Yes Eligible for Voting\n",
      "No Not Eligible for Marriage in India\n",
      "yes Eligible for govt Job in India\n",
      "Yes Eligible for Driving licence\n"
     ]
    }
   ],
   "source": [
    "gender = input(\"What is your gender please enter a number Femail:0 Mail:1 :\")\n",
    "age = int(input(\"Enter Age in number:\"))\n",
    "\n",
    "if(gender == \"1\"):\n",
    "    if(age > 5):\n",
    "        print(\"Yes Eligible for Theatre\")\n",
    "    else:\n",
    "        print(\"No Not Eligible for Theatre\")\n",
    "    if(age>18):\n",
    "        print(\"Yes Eligible for Voting\")\n",
    "    else:\n",
    "        print(\"No Not Eligible for Voting\")\n",
    "    if(age>23):\n",
    "        print(\"Yes Eligible for Marriage in india\")\n",
    "    else:\n",
    "        print(\"No Not Eligible for Marriage in India\")\n",
    "    if(18<=age<32):\n",
    "        print(\"yes Eligible for govt Job in India\")\n",
    "    else:\n",
    "        print(\"No Not Elgible for govt Job in India\")\n",
    "    if(18<=age<60):\n",
    "        print(\"Yes Eligible for Driving licence\")\n",
    "    else:\n",
    "        print(\"No Eligible for Driving licence\")\n",
    "if(gender == \"0\"):\n",
    "    if(age > 7):\n",
    "        print(\"Yes Eligible for Theatre\")\n",
    "    else:\n",
    "        print(\"No Not Eligible for Theatre\")\n",
    "    if(age>18):\n",
    "        print(\"Yes Eligible for Voting\")\n",
    "    else:\n",
    "        print(\"No Not Eligible for Voting\")\n",
    "    if(age>21):\n",
    "        print(\"Yes Eligible for Marriage in india\")\n",
    "    else:\n",
    "        print(\"No Not Eligible for Marriage in India\")\n",
    "    if(18<=age <32):\n",
    "        print(\"yes Eligible for govt Job in India\")\n",
    "    else:\n",
    "        print(\"No Not Elgible for govt Job in India\")\n",
    "    if(18<=age<60):\n",
    "        print(\"Yes Eligible for Driving licence\")\n",
    "    else:\n",
    "        print(\"No Eligible for Driving licence\")"
   ]
  },
  {
   "cell_type": "markdown",
   "id": "b44ab9a4",
   "metadata": {},
   "source": [
    "### 23. operating systems: \n",
    "\n",
    "1.windows \n",
    "\n",
    "2.android \n",
    "\n",
    "3.mac \n",
    "\n",
    "Enter an option: \n",
    "\n",
    " \n",
    "\n",
    "If the user enters 1 then show \"Goto first floor and buy windows laptop or mobile\" \n",
    "\n",
    "If the user enters 2 then show \"Goto second floor and buy adroid mobiles\" \n",
    "\n",
    "If the user enters 3 then show \"Goto third floor and buy mac laptop or iphones\" \n",
    "\n",
    "If the user enters other than 1 or 2 or 3 then show \"There is only three floors, please select 1 or 2 or 3\" "
   ]
  },
  {
   "cell_type": "code",
   "execution_count": 55,
   "id": "e18c169b",
   "metadata": {},
   "outputs": [
    {
     "name": "stdout",
     "output_type": "stream",
     "text": [
      "What is your operating system please enter a number Windows:1, android:2, mac:34\n",
      "There is only three floors, please select 1 or 2 or 3\n",
      "What is your operating system please enter a number Windows:1, android:2, mac:35\n",
      "There is only three floors, please select 1 or 2 or 3\n",
      "What is your operating system please enter a number Windows:1, android:2, mac:37\n",
      "There is only three floors, please select 1 or 2 or 3\n",
      "What is your operating system please enter a number Windows:1, android:2, mac:38\n",
      "There is only three floors, please select 1 or 2 or 3\n",
      "What is your operating system please enter a number Windows:1, android:2, mac:31\n",
      "Goto first floor and buy windows laptop or mobile\n"
     ]
    }
   ],
   "source": [
    "userInput = input(\"What is your operating system please enter a number Windows:1, android:2, mac:3\")\n",
    "\n",
    "dict1 = {\"1\":\"Goto first floor and buy windows laptop or mobile\", \"2\":\"Goto second floor and buy adroid mobiles\",\"3\":\"Goto third floor and buy mac laptop or iphones\"}\n",
    "while True:\n",
    "    if(userInput in [\"1\",\"2\",\"3\"]):\n",
    "        print(dict1[userInput])\n",
    "        break\n",
    "    else:\n",
    "        print(\"There is only three floors, please select 1 or 2 or 3\")\n",
    "        userInput = input(\"What is your operating system please enter a number Windows:1, android:2, mac:3\")\n",
    "\n",
    "              "
   ]
  },
  {
   "cell_type": "markdown",
   "id": "20d2bb79",
   "metadata": {},
   "source": [
    "### 24.Given an age, figure out whether someone's a baby, toddler, child, teenager, adult or old codger. "
   ]
  },
  {
   "cell_type": "code",
   "execution_count": 59,
   "id": "1e878b2f",
   "metadata": {},
   "outputs": [
    {
     "name": "stdout",
     "output_type": "stream",
     "text": [
      "Please Enter Your age:0.4\n",
      "Baby\n"
     ]
    }
   ],
   "source": [
    "age = float(input(\"Please Enter Your age:\"))\n",
    "if(age<=1):\n",
    "    print(\"Baby\")\n",
    "elif(1<=age>=3):\n",
    "    print(\"Toddler\")\n",
    "elif(4<=age>=12):\n",
    "    print(\"Child\")\n",
    "elif(13<=age>=19):\n",
    "    print(\"Teenager\")\n",
    "elif(age>=20):\n",
    "    print(\"Adult\")\n",
    "elif(age >= 65):\n",
    "    print(\"Old Codger\")\n",
    "else:\n",
    "    print(\"please Enter valid number\")"
   ]
  },
  {
   "cell_type": "markdown",
   "id": "f0560c93",
   "metadata": {},
   "source": [
    "### 25.Take two number a,b from the user and check whether a is divisible by b or not "
   ]
  },
  {
   "cell_type": "code",
   "execution_count": 62,
   "id": "90352c3e",
   "metadata": {},
   "outputs": [
    {
     "name": "stdout",
     "output_type": "stream",
     "text": [
      "4\n",
      "3\n",
      "Not Divisible\n"
     ]
    }
   ],
   "source": [
    "a = int(input())\n",
    "b = int(input())\n",
    "\n",
    "if(a%b == 0):\n",
    "    print(\"Yes Divisible\")\n",
    "else:\n",
    "    print(\"Not Divisible\")"
   ]
  },
  {
   "cell_type": "markdown",
   "id": "9f72ebc8",
   "metadata": {},
   "source": [
    "### 26. Take a letter from the user and print that letter belongs to which category I.e is it a small letter or capital letter or number or special symbol "
   ]
  },
  {
   "cell_type": "code",
   "execution_count": 65,
   "id": "e36515c1",
   "metadata": {},
   "outputs": [
    {
     "name": "stdout",
     "output_type": "stream",
     "text": [
      "A\n",
      "The letter is upper\n"
     ]
    }
   ],
   "source": [
    "userInput = input()\n",
    "if(userInput.isupper()):\n",
    "    print(\"The letter is upper\")\n",
    "else:\n",
    "    print(\"The letter is Lower\")\n"
   ]
  },
  {
   "cell_type": "markdown",
   "id": "a72dfd3d",
   "metadata": {},
   "source": [
    "### looping statements \n",
    "\n",
    " \n",
    "\n",
    "25. take a number from the user and check whether it is prime? \n",
    "\n",
    "26. take a string from the user and check contains only digits or not? \n",
    "\n",
    "27. take a string from the user and check contains only  alphabets or not? \n",
    "\n",
    "28. take a string from the user and check contains only  special chars or not? \n",
    "\n",
    "29.take a string from the user and check contains only  capital letters or not?  "
   ]
  },
  {
   "cell_type": "code",
   "execution_count": 69,
   "id": "3773bec7",
   "metadata": {},
   "outputs": [
    {
     "name": "stdout",
     "output_type": "stream",
     "text": [
      "5\n",
      "Yes the number is prime\n"
     ]
    }
   ],
   "source": [
    "#25\n",
    "num = int(input())\n",
    "is_prime = True\n",
    "\n",
    "for i in range(2,num):\n",
    "    if(num%i ==0):\n",
    "        is_prime = False\n",
    "        break\n",
    "if(is_prime):\n",
    "    print(\"Yes the number is prime\")\n",
    "else:\n",
    "    print(\"No the number is not prime\")"
   ]
  },
  {
   "cell_type": "code",
   "execution_count": 72,
   "id": "a10463c6",
   "metadata": {},
   "outputs": [
    {
     "name": "stdout",
     "output_type": "stream",
     "text": [
      "232\n",
      "contains Digits\n"
     ]
    }
   ],
   "source": [
    "#26\n",
    "userInput = input()\n",
    "if(userInput.isdigit()):\n",
    "    print(\"contains Digits\")\n",
    "else:\n",
    "    print(\"Not contains Any Digits\")"
   ]
  },
  {
   "cell_type": "code",
   "execution_count": 73,
   "id": "1f4300e1",
   "metadata": {},
   "outputs": [
    {
     "name": "stdout",
     "output_type": "stream",
     "text": [
      "sdc\n",
      "contains Digits\n"
     ]
    }
   ],
   "source": [
    "#27 take a string from the user and check contains only alphabets or not? \n",
    "userInput = input()\n",
    "if(userInput.isalpha()):\n",
    "    print(\"contains alphabetic\")\n",
    "else:\n",
    "    print(\"Not contains Any Digits\")"
   ]
  },
  {
   "cell_type": "code",
   "execution_count": 78,
   "id": "5dafb263",
   "metadata": {},
   "outputs": [
    {
     "name": "stdout",
     "output_type": "stream",
     "text": [
      "sd@32 23$%\n",
      "contains special characters\n"
     ]
    }
   ],
   "source": [
    "#28 take a string from the user and check contains only special chars or not? \n",
    "userInput = input() \n",
    "specialChars = \"\"\"!@#$%^&*()-+?_=,<>/\"\"\"\n",
    "isspeacl= True\n",
    "for i in userInput:\n",
    "    if(i in specialChars):\n",
    "        print(\"contains special characters\")\n",
    "        isspeacl=False\n",
    "        break\n",
    "if(isspeacl):\n",
    "    print(\"Not contains special characters\")"
   ]
  },
  {
   "cell_type": "code",
   "execution_count": 81,
   "id": "a1b474d4",
   "metadata": {},
   "outputs": [
    {
     "name": "stdout",
     "output_type": "stream",
     "text": [
      "ascS\n",
      "No not all Caps\n"
     ]
    }
   ],
   "source": [
    "#29 take a string from the user and check contains only capital letters or not?\n",
    "userInput = input()\n",
    "iscap= True\n",
    "for i in userInput:\n",
    "    if i.islower():\n",
    "        iscap = False\n",
    "        break\n",
    "if(iscap):\n",
    "    print(\"Yes all Caps\")\n",
    "else:\n",
    "    print(\"No not all Caps\")"
   ]
  },
  {
   "cell_type": "code",
   "execution_count": 84,
   "id": "c4e327cc",
   "metadata": {},
   "outputs": [
    {
     "name": "stdout",
     "output_type": "stream",
     "text": [
      "SFVSD\n",
      "No not all small\n"
     ]
    }
   ],
   "source": [
    "#take a string from the user and check contains only  small letters or not?\n",
    "userInput = input()\n",
    "iscap= True\n",
    "for i in userInput:\n",
    "    if i.isupper():\n",
    "        iscap = False\n",
    "        break\n",
    "if(iscap):\n",
    "    print(\"Yes all small\")\n",
    "else:\n",
    "    print(\"No not all small\")"
   ]
  },
  {
   "cell_type": "markdown",
   "id": "783ff644",
   "metadata": {},
   "source": [
    "# 31. WAP to replace last n occurrence of give string. \n",
    "\n",
    "For example:”apple,orange,apple,grape,orange,apple,apple,orange” \n",
    "\n",
    "source: “apple” \n",
    "\n",
    "last occurrences: 2 \n",
    "\n",
    "replace with: APPLE \n",
    "\n",
    "output:”apple,orange,apple,grape,orange,APPLE,APPLE,orange” "
   ]
  },
  {
   "cell_type": "code",
   "execution_count": 89,
   "id": "c8fa102d",
   "metadata": {},
   "outputs": [
    {
     "name": "stdout",
     "output_type": "stream",
     "text": [
      "apple,orange,apple,grape,orange,apple,apple,orange\n",
      "apple\n",
      "2\n",
      "APPLE\n",
      "apple orange apple grape orange APPLE APPLE orange\n"
     ]
    }
   ],
   "source": [
    "userInput = list(map(str,input().split(\",\")))\n",
    "source = input()\n",
    "last_occerrence = int(input())\n",
    "replace_with = input()\n",
    "\n",
    "userInput = userInput[::-1]\n",
    "newString = []\n",
    "count = 0\n",
    "for i in userInput:\n",
    "    if(count != last_occerrence):\n",
    "        if(i == source):\n",
    "            newString.append(replace_with)\n",
    "            count+=1\n",
    "        else:\n",
    "            newString.append(i)\n",
    "    else:\n",
    "        newString.append(i)\n",
    "new = newString[::-1]\n",
    "print(*new)"
   ]
  },
  {
   "cell_type": "markdown",
   "id": "37217dab",
   "metadata": {},
   "source": [
    "### 32  WAP to check given string contains numbers or not. it should consider float numbers also"
   ]
  },
  {
   "cell_type": "code",
   "execution_count": 92,
   "id": "9f68f406",
   "metadata": {},
   "outputs": [
    {
     "name": "stdout",
     "output_type": "stream",
     "text": [
      "123e3\n",
      "Yes the string contains number\n"
     ]
    }
   ],
   "source": [
    "userInput = input()\n",
    "isContains = False\n",
    "for i in userInput:\n",
    "    if(i.isdigit()):\n",
    "        isContains = True\n",
    "        break\n",
    "if(isContains):\n",
    "    print(\"Yes the string contains number\")\n",
    "else:\n",
    "    print(\"No the string contains no number\")\n",
    "    "
   ]
  },
  {
   "cell_type": "markdown",
   "id": "ad632a74",
   "metadata": {},
   "source": [
    "### 33 Convert the total string in to lower case. Without using lower() function."
   ]
  },
  {
   "cell_type": "code",
   "execution_count": 98,
   "id": "428dd75c",
   "metadata": {},
   "outputs": [
    {
     "name": "stdout",
     "output_type": "stream",
     "text": [
      "ASCASCasaSDAS\n",
      "ascascasasdas\n"
     ]
    }
   ],
   "source": [
    "alphs  = {\"A\":'a',\"B\":'b',\"C\":'c',\"D\":'d',\"E\":'e',\"F\":'f',\"G\":'g',\"H\":'h',\"I\":'i',\"J\":\"j\",\"K\":'k',\"L\":\"l\",\"M\":'m',\"N\":'n',\"O\":\"o\",\"P\":'p',\"Q\":'q',\"R\":'r',\"S\":'s',\"T\":'t',\"U\":'u',\"V\":'v',\"W\":'w',\"X\":'x',\"Y\":'y',\"Z\":'z'}\n",
    "newAlph= \"\"\n",
    "userInput = input()\n",
    "for i in userInput:\n",
    "    try:\n",
    "        newAlph+=alphs[i]\n",
    "    except:\n",
    "        newAlph+=i\n",
    "print(newAlph)"
   ]
  },
  {
   "cell_type": "markdown",
   "id": "65b507b6",
   "metadata": {},
   "source": [
    "# 34 Convert the total string in to upper case. Without using upper() function."
   ]
  },
  {
   "cell_type": "code",
   "execution_count": 1,
   "id": "8beb5c0e",
   "metadata": {},
   "outputs": [
    {
     "name": "stdout",
     "output_type": "stream",
     "text": [
      "asdaASASasDaS\n",
      "ASDAASASASDAS\n"
     ]
    }
   ],
   "source": [
    "alphs  = {\"A\":'a',\"B\":'b',\"C\":'c',\"D\":'d',\n",
    "          \"E\":'e',\"F\":'f',\"G\":'g',\"H\":'h',\"I\":'i',\n",
    "          \"J\":\"j\",\"K\":'k',\"L\":\"l\",\"M\":'m',\"N\":'n',\n",
    "          \"O\":\"o\",\"P\":'p',\"Q\":'q',\"R\":'r',\"S\":'s',\n",
    "          \"T\":'t',\"U\":'u',\"V\":'v',\"W\":'w',\"X\":'x',\n",
    "          \"Y\":'y',\"Z\":'z'}\n",
    "\n",
    "alphas = dict()\n",
    "for i in alphs:\n",
    "    alphas[alphs[i]] = i\n",
    "\n",
    "\n",
    "newAlph= \"\"\n",
    "userInput = input()\n",
    "for i in userInput:\n",
    "    try:\n",
    "        newAlph+=alphas[i]\n",
    "    except:\n",
    "        newAlph+=i\n",
    "print(newAlph)"
   ]
  },
  {
   "cell_type": "markdown",
   "id": "b85f90cb",
   "metadata": {},
   "source": [
    "### 35. Show the below menu to the user until and until user select quit and display corresponding os message \n",
    "\n",
    " \n",
    "\n",
    "''' \n",
    "\n",
    "Menu:\n",
    "\n",
    "1. windows \n",
    "\n",
    "2. Linux \n",
    "\n",
    "3. Mac \n",
    "\n",
    "4. quit \n",
    "\n",
    "''' "
   ]
  },
  {
   "cell_type": "code",
   "execution_count": 2,
   "id": "c4dce32e",
   "metadata": {},
   "outputs": [
    {
     "name": "stdout",
     "output_type": "stream",
     "text": [
      "Dear' User please select a Operating system\n",
      "1. windows \n",
      " 2. Linux \n",
      " 3. Mac \n",
      " 4. quit\n",
      "as\n",
      "as\n",
      "\n",
      "as\n",
      "as\n",
      "as\n",
      "windows\n",
      "windows\n"
     ]
    }
   ],
   "source": [
    "print(\"Dear' User please select a Operating system\")\n",
    "print(\"1. windows \\n 2. Linux \\n 3. Mac \\n 4. quit\")\n",
    "\n",
    "list1 = [\"windows\",\"Linux\",\"Mac\",\"quit\"]\n",
    "userInput = input()\n",
    "\n",
    "while True:\n",
    "    if(userInput in list1):\n",
    "        print(userInput)\n",
    "        break\n",
    "    else:\n",
    "        print(\"Dear' User please select a Operating system\")\n",
    "        print(\"1. windows \\n 2. Linux \\n 3. Mac \\n 4. quit\")\n",
    "        userInput = input()\n",
    "        "
   ]
  },
  {
   "cell_type": "code",
   "execution_count": null,
   "id": "52fc6999",
   "metadata": {},
   "outputs": [],
   "source": []
  },
  {
   "cell_type": "code",
   "execution_count": 4,
   "id": "b55763f5",
   "metadata": {},
   "outputs": [
    {
     "name": "stdout",
     "output_type": "stream",
     "text": [
      "ascasc\n",
      "No it doesn't contain digit\n"
     ]
    }
   ],
   "source": [
    "#36. take a string from the user and check contains at least one digit or not? \n",
    "userInput = input()\n",
    "iscontains = False\n",
    "for i in userInput:\n",
    "    if i.isdigit():\n",
    "        iscontains = True\n",
    "        break\n",
    "if(iscontains):\n",
    "    print(\"Yes it contains digit\")\n",
    "else:\n",
    "    print(\"No it doesn't contain digit\")"
   ]
  },
  {
   "cell_type": "markdown",
   "id": "d775c845",
   "metadata": {},
   "source": [
    "### 37. take a string from the user and check contains at least one alphabets or not? \n",
    "\n",
    "38. take a string from the user and check contains at least one chars or not? \n",
    "\n",
    "39. take a string from the user and check contains at least one capital letter or not? \n",
    "\n",
    "40. take a string from the user and check contains at least one small letter or not? "
   ]
  },
  {
   "cell_type": "code",
   "execution_count": 7,
   "id": "225f1d93",
   "metadata": {},
   "outputs": [
    {
     "name": "stdout",
     "output_type": "stream",
     "text": [
      "sa34\n",
      "Yes it contains alphabets\n"
     ]
    }
   ],
   "source": [
    "#37  take a string from the user and check contains at least one alphabets or not?\n",
    "userInput = input()\n",
    "iscontains = False\n",
    "for i in userInput:\n",
    "    if i.isalpha():\n",
    "        iscontains = True\n",
    "        break\n",
    "if(iscontains):\n",
    "    print(\"Yes it contains alphabets\")\n",
    "else:\n",
    "    print(\"No it doesn't contain alphabets\")"
   ]
  },
  {
   "cell_type": "markdown",
   "id": "cb0ad838",
   "metadata": {},
   "source": [
    "### 38 take a string from the user and check contains at least one chars or not?"
   ]
  },
  {
   "cell_type": "code",
   "execution_count": null,
   "id": "9123e510",
   "metadata": {},
   "outputs": [],
   "source": [
    "#38  take a string from the user and check contains at least one chars or not?\n",
    "userInput = input()\n",
    "iscontains = False\n",
    "for i in userInput:\n",
    "    if i.isalpha():\n",
    "        iscontains = True\n",
    "        break\n",
    "if(iscontains):\n",
    "    print(\"Yes it contains chars\")\n",
    "else:\n",
    "    print(\"No it doesn't contain chars\")"
   ]
  },
  {
   "cell_type": "code",
   "execution_count": null,
   "id": "77792899",
   "metadata": {},
   "outputs": [],
   "source": []
  },
  {
   "cell_type": "markdown",
   "id": "d42e3d87",
   "metadata": {},
   "source": [
    "# 39. take a string from the user and check contains at least one capital letter or not? \n"
   ]
  },
  {
   "cell_type": "code",
   "execution_count": null,
   "id": "4e88d53d",
   "metadata": {},
   "outputs": [],
   "source": [
    "userInput = input()\n",
    "iscontains = False\n",
    "for i in userInput:\n",
    "    if i.isupper():\n",
    "        iscontains = True\n",
    "        break\n",
    "if(iscontains):\n",
    "    print(\"Yes it contains capital\")\n",
    "else:\n",
    "    print(\"No it doesn't contain capital\")"
   ]
  },
  {
   "cell_type": "markdown",
   "id": "fae236e5",
   "metadata": {},
   "source": [
    "### 40. take a string from the user and check contains at least one small letter or not? "
   ]
  },
  {
   "cell_type": "code",
   "execution_count": null,
   "id": "47f10c71",
   "metadata": {},
   "outputs": [],
   "source": [
    "userInput = input()\n",
    "iscontains = False\n",
    "for i in userInput:\n",
    "    if i.islower():\n",
    "        iscontains = True\n",
    "        break\n",
    "if(iscontains):\n",
    "    print(\"Yes it contains lower\")\n",
    "else:\n",
    "    print(\"No it doesn't contain lower\")"
   ]
  },
  {
   "cell_type": "code",
   "execution_count": null,
   "id": "65053aa5",
   "metadata": {},
   "outputs": [],
   "source": []
  },
  {
   "cell_type": "markdown",
   "id": "df9c4440",
   "metadata": {},
   "source": [
    "\n",
    "### 41 Print the first 100 odd numbers"
   ]
  },
  {
   "cell_type": "code",
   "execution_count": 4,
   "id": "df577d26",
   "metadata": {},
   "outputs": [
    {
     "name": "stdout",
     "output_type": "stream",
     "text": [
      "Length of the odd num list 100\n",
      "list of all odd nums is\n",
      "[1, 3, 5, 7, 9, 11, 13, 15, 17, 19, 21, 23, 25, 27, 29, 31, 33, 35, 37, 39, 41, 43, 45, 47, 49, 51, 53, 55, 57, 59, 61, 63, 65, 67, 69, 71, 73, 75, 77, 79, 81, 83, 85, 87, 89, 91, 93, 95, 97, 99, 101, 103, 105, 107, 109, 111, 113, 115, 117, 119, 121, 123, 125, 127, 129, 131, 133, 135, 137, 139, 141, 143, 145, 147, 149, 151, 153, 155, 157, 159, 161, 163, 165, 167, 169, 171, 173, 175, 177, 179, 181, 183, 185, 187, 189, 191, 193, 195, 197, 199]\n"
     ]
    }
   ],
   "source": [
    "count = 0\n",
    "num1 = 1\n",
    "list1 = []\n",
    "while True:\n",
    "    if(count == 100):\n",
    "        break\n",
    "    if(num1%2 != 0):\n",
    "        list1.append(num1)\n",
    "        count+=1 \n",
    "    num1+=1\n",
    "print(\"Length of the odd num list \"+ str(len(list1)))\n",
    "print(\"list of all odd nums is\")\n",
    "print(list1)"
   ]
  },
  {
   "cell_type": "markdown",
   "id": "59d62490",
   "metadata": {},
   "source": [
    "### 42 Determine the factors of a number entered  by the user"
   ]
  },
  {
   "cell_type": "code",
   "execution_count": 5,
   "id": "c092eaa2",
   "metadata": {},
   "outputs": [
    {
     "name": "stdout",
     "output_type": "stream",
     "text": [
      "10\n",
      "1\n",
      "2\n",
      "5\n"
     ]
    }
   ],
   "source": [
    "num =  int(input())\n",
    "\n",
    "for i in range(1,num):\n",
    "    if(num%i ==0):\n",
    "        print(i)"
   ]
  },
  {
   "cell_type": "markdown",
   "id": "4ccc7583",
   "metadata": {},
   "source": [
    "# 43. Play a number guessing game (User enters a guess, you print YES or Higher or Lower). This should continue until and until user gives a correct number or want to quit in the middle. \n",
    "\n",
    "Get a hidden number by using random.randint(1,100) "
   ]
  },
  {
   "cell_type": "code",
   "execution_count": null,
   "id": "a57d2cf4",
   "metadata": {},
   "outputs": [
    {
     "name": "stdout",
     "output_type": "stream",
     "text": [
      "4\n",
      "Your num is lower\n",
      "50\n",
      "Your num is high\n",
      "40\n",
      "Your num is high\n",
      "30\n",
      "Your num is high\n",
      "25\n",
      "Your num is high\n",
      "10\n",
      "Your num is lower\n",
      "15\n",
      "Your num is lower\n",
      "20\n",
      "Your num is lower\n",
      "23\n",
      "Your num is high\n",
      "22\n",
      "Your num is high\n",
      "21\n",
      "You are correct the secret number is:21\n"
     ]
    }
   ],
   "source": [
    "import random\n",
    "secret_num = random.randint(1,100) \n",
    "while True:\n",
    "    usernum = int(input())\n",
    "    if(usernum > secret_num):\n",
    "        print(\"Your num is high\")\n",
    "        break\n",
    "    if(usernum< secret_num):\n",
    "        print(\"Your num is lower\")\n",
    "    elif(usernum == secret_num):\n",
    "        print(\"You are correct the secret number is:\"+str(secret_num))"
   ]
  },
  {
   "cell_type": "markdown",
   "id": "7f8fa8c5",
   "metadata": {},
   "source": [
    "### 44. Take two numbers from the user a,b check whether a is divisible by b or not?  "
   ]
  },
  {
   "cell_type": "code",
   "execution_count": 4,
   "id": "db967aac",
   "metadata": {},
   "outputs": [
    {
     "name": "stdout",
     "output_type": "stream",
     "text": [
      "5\n",
      "3\n",
      "No not divisible\n"
     ]
    }
   ],
   "source": [
    "a = int(input())\n",
    "b = int(input())\n",
    "\n",
    "if(a%b==0):\n",
    "    print(\"Yes Divisible\")\n",
    "else:\n",
    "    print(\"No not divisible\")"
   ]
  },
  {
   "cell_type": "markdown",
   "id": "23a0f29d",
   "metadata": {},
   "source": [
    "### 45. Find the sum of all the multiples of 3 or 5 below 1000 "
   ]
  },
  {
   "cell_type": "code",
   "execution_count": 6,
   "id": "f6534181",
   "metadata": {},
   "outputs": [
    {
     "name": "stdout",
     "output_type": "stream",
     "text": [
      "3\n",
      "5\n",
      "6\n",
      "9\n",
      "10\n",
      "12\n",
      "15\n",
      "18\n",
      "20\n",
      "21\n",
      "24\n",
      "25\n",
      "27\n",
      "30\n",
      "33\n",
      "35\n",
      "36\n",
      "39\n",
      "40\n",
      "42\n",
      "45\n",
      "48\n",
      "50\n",
      "51\n",
      "54\n",
      "55\n",
      "57\n",
      "60\n",
      "63\n",
      "65\n",
      "66\n",
      "69\n",
      "70\n",
      "72\n",
      "75\n",
      "78\n",
      "80\n",
      "81\n",
      "84\n",
      "85\n",
      "87\n",
      "90\n",
      "93\n",
      "95\n",
      "96\n",
      "99\n",
      "100\n",
      "102\n",
      "105\n",
      "108\n",
      "110\n",
      "111\n",
      "114\n",
      "115\n",
      "117\n",
      "120\n",
      "123\n",
      "125\n",
      "126\n",
      "129\n",
      "130\n",
      "132\n",
      "135\n",
      "138\n",
      "140\n",
      "141\n",
      "144\n",
      "145\n",
      "147\n",
      "150\n",
      "153\n",
      "155\n",
      "156\n",
      "159\n",
      "160\n",
      "162\n",
      "165\n",
      "168\n",
      "170\n",
      "171\n",
      "174\n",
      "175\n",
      "177\n",
      "180\n",
      "183\n",
      "185\n",
      "186\n",
      "189\n",
      "190\n",
      "192\n",
      "195\n",
      "198\n",
      "200\n",
      "201\n",
      "204\n",
      "205\n",
      "207\n",
      "210\n",
      "213\n",
      "215\n",
      "216\n",
      "219\n",
      "220\n",
      "222\n",
      "225\n",
      "228\n",
      "230\n",
      "231\n",
      "234\n",
      "235\n",
      "237\n",
      "240\n",
      "243\n",
      "245\n",
      "246\n",
      "249\n",
      "250\n",
      "252\n",
      "255\n",
      "258\n",
      "260\n",
      "261\n",
      "264\n",
      "265\n",
      "267\n",
      "270\n",
      "273\n",
      "275\n",
      "276\n",
      "279\n",
      "280\n",
      "282\n",
      "285\n",
      "288\n",
      "290\n",
      "291\n",
      "294\n",
      "295\n",
      "297\n",
      "300\n",
      "303\n",
      "305\n",
      "306\n",
      "309\n",
      "310\n",
      "312\n",
      "315\n",
      "318\n",
      "320\n",
      "321\n",
      "324\n",
      "325\n",
      "327\n",
      "330\n",
      "333\n",
      "335\n",
      "336\n",
      "339\n",
      "340\n",
      "342\n",
      "345\n",
      "348\n",
      "350\n",
      "351\n",
      "354\n",
      "355\n",
      "357\n",
      "360\n",
      "363\n",
      "365\n",
      "366\n",
      "369\n",
      "370\n",
      "372\n",
      "375\n",
      "378\n",
      "380\n",
      "381\n",
      "384\n",
      "385\n",
      "387\n",
      "390\n",
      "393\n",
      "395\n",
      "396\n",
      "399\n",
      "400\n",
      "402\n",
      "405\n",
      "408\n",
      "410\n",
      "411\n",
      "414\n",
      "415\n",
      "417\n",
      "420\n",
      "423\n",
      "425\n",
      "426\n",
      "429\n",
      "430\n",
      "432\n",
      "435\n",
      "438\n",
      "440\n",
      "441\n",
      "444\n",
      "445\n",
      "447\n",
      "450\n",
      "453\n",
      "455\n",
      "456\n",
      "459\n",
      "460\n",
      "462\n",
      "465\n",
      "468\n",
      "470\n",
      "471\n",
      "474\n",
      "475\n",
      "477\n",
      "480\n",
      "483\n",
      "485\n",
      "486\n",
      "489\n",
      "490\n",
      "492\n",
      "495\n",
      "498\n",
      "500\n",
      "501\n",
      "504\n",
      "505\n",
      "507\n",
      "510\n",
      "513\n",
      "515\n",
      "516\n",
      "519\n",
      "520\n",
      "522\n",
      "525\n",
      "528\n",
      "530\n",
      "531\n",
      "534\n",
      "535\n",
      "537\n",
      "540\n",
      "543\n",
      "545\n",
      "546\n",
      "549\n",
      "550\n",
      "552\n",
      "555\n",
      "558\n",
      "560\n",
      "561\n",
      "564\n",
      "565\n",
      "567\n",
      "570\n",
      "573\n",
      "575\n",
      "576\n",
      "579\n",
      "580\n",
      "582\n",
      "585\n",
      "588\n",
      "590\n",
      "591\n",
      "594\n",
      "595\n",
      "597\n",
      "600\n",
      "603\n",
      "605\n",
      "606\n",
      "609\n",
      "610\n",
      "612\n",
      "615\n",
      "618\n",
      "620\n",
      "621\n",
      "624\n",
      "625\n",
      "627\n",
      "630\n",
      "633\n",
      "635\n",
      "636\n",
      "639\n",
      "640\n",
      "642\n",
      "645\n",
      "648\n",
      "650\n",
      "651\n",
      "654\n",
      "655\n",
      "657\n",
      "660\n",
      "663\n",
      "665\n",
      "666\n",
      "669\n",
      "670\n",
      "672\n",
      "675\n",
      "678\n",
      "680\n",
      "681\n",
      "684\n",
      "685\n",
      "687\n",
      "690\n",
      "693\n",
      "695\n",
      "696\n",
      "699\n",
      "700\n",
      "702\n",
      "705\n",
      "708\n",
      "710\n",
      "711\n",
      "714\n",
      "715\n",
      "717\n",
      "720\n",
      "723\n",
      "725\n",
      "726\n",
      "729\n",
      "730\n",
      "732\n",
      "735\n",
      "738\n",
      "740\n",
      "741\n",
      "744\n",
      "745\n",
      "747\n",
      "750\n",
      "753\n",
      "755\n",
      "756\n",
      "759\n",
      "760\n",
      "762\n",
      "765\n",
      "768\n",
      "770\n",
      "771\n",
      "774\n",
      "775\n",
      "777\n",
      "780\n",
      "783\n",
      "785\n",
      "786\n",
      "789\n",
      "790\n",
      "792\n",
      "795\n",
      "798\n",
      "800\n",
      "801\n",
      "804\n",
      "805\n",
      "807\n",
      "810\n",
      "813\n",
      "815\n",
      "816\n",
      "819\n",
      "820\n",
      "822\n",
      "825\n",
      "828\n",
      "830\n",
      "831\n",
      "834\n",
      "835\n",
      "837\n",
      "840\n",
      "843\n",
      "845\n",
      "846\n",
      "849\n",
      "850\n",
      "852\n",
      "855\n",
      "858\n",
      "860\n",
      "861\n",
      "864\n",
      "865\n",
      "867\n",
      "870\n",
      "873\n",
      "875\n",
      "876\n",
      "879\n",
      "880\n",
      "882\n",
      "885\n",
      "888\n",
      "890\n",
      "891\n",
      "894\n",
      "895\n",
      "897\n",
      "900\n",
      "903\n",
      "905\n",
      "906\n",
      "909\n",
      "910\n",
      "912\n",
      "915\n",
      "918\n",
      "920\n",
      "921\n",
      "924\n",
      "925\n",
      "927\n",
      "930\n",
      "933\n",
      "935\n",
      "936\n",
      "939\n",
      "940\n",
      "942\n",
      "945\n",
      "948\n",
      "950\n",
      "951\n",
      "954\n",
      "955\n",
      "957\n",
      "960\n",
      "963\n",
      "965\n",
      "966\n",
      "969\n",
      "970\n",
      "972\n",
      "975\n",
      "978\n",
      "980\n",
      "981\n",
      "984\n",
      "985\n",
      "987\n",
      "990\n",
      "993\n",
      "995\n",
      "996\n",
      "999\n",
      "233168\n"
     ]
    }
   ],
   "source": [
    "sumint = 0\n",
    "for i in range(1,1000):\n",
    "    if(i%3==0 or i%5==0):\n",
    "        print(i)\n",
    "        sumint+=i \n",
    "print(sumint)"
   ]
  },
  {
   "cell_type": "markdown",
   "id": "a0ef1cc8",
   "metadata": {},
   "source": [
    "### 46. Write a program to find out big of two numbers"
   ]
  },
  {
   "cell_type": "code",
   "execution_count": 7,
   "id": "20cc3562",
   "metadata": {},
   "outputs": [
    {
     "name": "stdout",
     "output_type": "stream",
     "text": [
      "5\n",
      "6\n",
      "6\n"
     ]
    }
   ],
   "source": [
    "num1 = int(input())\n",
    "num2 = int(input())\n",
    "if(num1>num2):\n",
    "    print(num1)\n",
    "else:\n",
    "    print(num2)"
   ]
  },
  {
   "cell_type": "markdown",
   "id": "5ce17db3",
   "metadata": {},
   "source": [
    "### 47. Write a program to find out biggest number in the given numbers.? "
   ]
  },
  {
   "cell_type": "code",
   "execution_count": 10,
   "id": "c4a646b0",
   "metadata": {},
   "outputs": [
    {
     "name": "stdout",
     "output_type": "stream",
     "text": [
      "1,12,1,4453,345,4\n",
      "4453\n"
     ]
    }
   ],
   "source": [
    "nums = list(map(int,input().split(\",\")))\n",
    "maxint = nums[0]\n",
    "\n",
    "for i in nums:\n",
    "    if(maxint<i):\n",
    "        maxint = i\n",
    "print(maxint)"
   ]
  },
  {
   "cell_type": "markdown",
   "id": "7a826658",
   "metadata": {},
   "source": [
    "# 48. find out the index of  third occurrence of given substring "
   ]
  },
  {
   "cell_type": "code",
   "execution_count": 11,
   "id": "0184e4a5",
   "metadata": {},
   "outputs": [
    {
     "name": "stdout",
     "output_type": "stream",
     "text": [
      "acadcadf\n",
      "a\n"
     ]
    }
   ],
   "source": [
    "userInput = input()\n",
    "print(userInput[2])"
   ]
  },
  {
   "cell_type": "markdown",
   "id": "668b6da4",
   "metadata": {},
   "source": [
    "## 49. find out the index nth occurrence of given substring "
   ]
  },
  {
   "cell_type": "code",
   "execution_count": 12,
   "id": "3fcad919",
   "metadata": {},
   "outputs": [
    {
     "name": "stdout",
     "output_type": "stream",
     "text": [
      "aksca ksam as\n",
      "4\n",
      "a\n"
     ]
    }
   ],
   "source": [
    "userInput = input()\n",
    "n = int(input())\n",
    "print(userInput[n])"
   ]
  },
  {
   "cell_type": "markdown",
   "id": "6821137f",
   "metadata": {},
   "source": [
    "## 50. Take some single digit numbers from the user and findout min, maximum, sum, average "
   ]
  },
  {
   "cell_type": "code",
   "execution_count": 14,
   "id": "22d330fe",
   "metadata": {},
   "outputs": [
    {
     "name": "stdout",
     "output_type": "stream",
     "text": [
      "3787031290\n",
      "9\n"
     ]
    }
   ],
   "source": [
    "num = input()\n",
    "maxnum = int(num[0])\n",
    "\n",
    "for i in num:\n",
    "    if(maxnum< int(i)):\n",
    "        maxnum = int(i)\n",
    "print(maxnum)"
   ]
  },
  {
   "cell_type": "markdown",
   "id": "b4cc2c50",
   "metadata": {},
   "source": [
    "### 51. print the number in proper mathematical way. \n",
    "\n",
    "Consider that we have 6 digit numbers. \n",
    "\n",
    "Number format  WAP> 10 -> 000010 \n",
    "\n",
    "       \t\t100 ->  000100 \n",
    "\n",
    "      \t\t1000 ->  001000 \n",
    "\n",
    " \t\t 2345678  ->  2345678 \n",
    "\n",
    "If the number has more than 6 digits then print as it is. "
   ]
  },
  {
   "cell_type": "code",
   "execution_count": 23,
   "id": "ece0e2d2",
   "metadata": {},
   "outputs": [
    {
     "name": "stdout",
     "output_type": "stream",
     "text": [
      "87654321\n",
      "87654321\n",
      "\n"
     ]
    }
   ],
   "source": [
    "num = input()\n",
    "\n",
    "result = \"\"\n",
    "oneNum = \"000000\"\n",
    "if(len(num)>=6):\n",
    "    print(num)\n",
    "if(len(num) ==1):\n",
    "    result+=oneNum[:-1]+num\n",
    "if(len(num)==2):\n",
    "    result+=oneNum[:-2]+num\n",
    "if(len(num)==3):\n",
    "    result+=oneNum[:-3]+num\n",
    "if(len(num)==4):\n",
    "    result+=oneNum[:-4]+num\n",
    "if(len(num)==5):\n",
    "    result+=oneNum[:-5]+num\n",
    "if(len(num)==6):\n",
    "    result+=oneNum[:-6]+num\n",
    "print(result)"
   ]
  },
  {
   "cell_type": "code",
   "execution_count": 20,
   "id": "7f55e71d",
   "metadata": {},
   "outputs": [
    {
     "name": "stdout",
     "output_type": "stream",
     "text": [
      "1234\n"
     ]
    }
   ],
   "source": [
    "num = \"123456\"\n",
    "print(num[:-2])\n"
   ]
  },
  {
   "cell_type": "markdown",
   "id": "ddbf5f6e",
   "metadata": {},
   "source": [
    "###  52. names  =\"emp1,emp2,emp3,emp4\" iterate through the employee names. "
   ]
  },
  {
   "cell_type": "code",
   "execution_count": 26,
   "id": "03853851",
   "metadata": {},
   "outputs": [
    {
     "name": "stdout",
     "output_type": "stream",
     "text": [
      "chandu, karthik, prudhvi, raj\n",
      "chandu\n",
      " karthik\n",
      " prudhvi\n",
      " raj\n"
     ]
    }
   ],
   "source": [
    "Employ_names = list(map(str,input().split(\",\")))\n",
    "for i in Employ_names:\n",
    "    print(i)"
   ]
  },
  {
   "cell_type": "markdown",
   "id": "f0c5ed33",
   "metadata": {},
   "source": [
    "### 53. Take actual string, source string, destination string. replce first nth occurrences of source string with destination string of actual string. "
   ]
  },
  {
   "cell_type": "code",
   "execution_count": 1,
   "id": "db91d6c5",
   "metadata": {},
   "outputs": [
    {
     "name": "stdout",
     "output_type": "stream",
     "text": [
      "555\n",
      "5\n",
      "5\n"
     ]
    }
   ],
   "source": [
    "actual_string= input()\n",
    "source_string = input()\n",
    "destination_string = input()\n",
    "\n"
   ]
  },
  {
   "cell_type": "markdown",
   "id": "9281d200",
   "metadata": {},
   "source": [
    "### 54. Take a two numbers from the user and do below menu driven operations \n",
    "\n",
    "1. addition \n",
    "\n",
    "2. multiples \n",
    "\n",
    "3.division \n",
    "\n",
    "4.sqrt \n",
    "\n",
    "5. pow    a**b \n",
    "\n",
    "6.subtraction   \n",
    "\n",
    "After selection do the corresponding operation. \n",
    "\n",
    "Note: user may give int, or float numbers. You should check whether it is proper digits or not. I.e the user given string should be in the position to convert to float. Other wise show the “inproper string given” Error. "
   ]
  },
  {
   "cell_type": "code",
   "execution_count": null,
   "id": "0c94c4ed",
   "metadata": {},
   "outputs": [],
   "source": []
  },
  {
   "cell_type": "code",
   "execution_count": null,
   "id": "37b36f25",
   "metadata": {},
   "outputs": [],
   "source": []
  },
  {
   "cell_type": "markdown",
   "id": "5f001553",
   "metadata": {},
   "source": [
    "### 55. Take numbers from the user and find out min, maximum, sum, average "
   ]
  },
  {
   "cell_type": "code",
   "execution_count": 2,
   "id": "b00e8f66",
   "metadata": {},
   "outputs": [
    {
     "name": "stdout",
     "output_type": "stream",
     "text": [
      " 12 2 3 23 343 3 3 \n",
      "Maximum element in the array is: 343\n",
      "Minimum element in the array is: 2\n",
      "Sum of all elements in the array is: 389\n",
      "Average of all elements is: 55.57142857142857\n"
     ]
    }
   ],
   "source": [
    "nums = list(map(int,input(\" \").split()))\n",
    "\n",
    "mini = nums[0]\n",
    "maxi = nums[0]\n",
    "sumint = 0\n",
    "\n",
    "for i in nums:\n",
    "    if(mini>i):\n",
    "        mini=i\n",
    "    if(maxi<i):\n",
    "        maxi = i\n",
    "    sumint +=i\n",
    "    \n",
    "print(f\"Maximum element in the array is: {maxi}\")\n",
    "print(f\"Minimum element in the array is: {mini}\")\n",
    "print(f\"Sum of all elements in the array is: {sumint}\")\n",
    "print(f\"Average of all elements is: {(sumint/len(nums))}\")"
   ]
  },
  {
   "cell_type": "code",
   "execution_count": null,
   "id": "40748cb3",
   "metadata": {},
   "outputs": [],
   "source": []
  }
 ],
 "metadata": {
  "kernelspec": {
   "display_name": "Python 3 (ipykernel)",
   "language": "python",
   "name": "python3"
  },
  "language_info": {
   "codemirror_mode": {
    "name": "ipython",
    "version": 3
   },
   "file_extension": ".py",
   "mimetype": "text/x-python",
   "name": "python",
   "nbconvert_exporter": "python",
   "pygments_lexer": "ipython3",
   "version": "3.9.12"
  }
 },
 "nbformat": 4,
 "nbformat_minor": 5
}
